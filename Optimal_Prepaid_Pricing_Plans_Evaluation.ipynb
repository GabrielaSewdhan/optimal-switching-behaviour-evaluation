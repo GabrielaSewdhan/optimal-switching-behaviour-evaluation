{
 "cells": [
  {
   "cell_type": "markdown",
   "metadata": {},
   "source": [
    "# Evaluation of Customer Switching Behavior between Prepaid Mobile Plans"
   ]
  },
  {
   "cell_type": "markdown",
   "metadata": {},
   "source": [
    "### Abstract\n",
    "\n",
    "One new trending feature of Smartphones is the support for E-SIM (Embedded Subscriber Identification Module) cards. These allow the user to simultaneously subscribe to multiple cellular providers while also supporting at most one physical SIM (Subscriber Identification Module) card. This feature allows customers to easily switch between providers and is especially useful for those who use prepaid plans which are popular in developing countries. A customer may have multiple providers and, at any point in time, can choose the provider with the most cost effective data plan. This means that cellular providers must consider soft-churn, where the consumer dynamically switches between multiple plans from multiple providers, in addition to the more traditional churn, where a consumer switches providers. This means that data pricing for such consumers must now be more personalized in order to be competitive and maximize profits. We determine the optimal personalized prepaid plan for such users, while providing a competitive advantage to the provider. Examples are provided to demonstrate the benefit, and numerical results corroborate our premise that personalized over traditional pricing plans can improve the revenue of the provider.\n",
    "\n",
    "This notebook has the code developed to evaluate the switching behavior of customers, and produce the graphs shown under the Numerical Results section of the paper."
   ]
  },
  {
   "cell_type": "markdown",
   "metadata": {},
   "source": [
    "## Necessary Libraries "
   ]
  },
  {
   "cell_type": "code",
   "execution_count": null,
   "metadata": {},
   "outputs": [],
   "source": [
    "%pylab inline\r\n",
    "import numpy as np\r\n",
    "import pandas as pd\r\n",
    "import category_encoders as ce\r\n",
    "import seaborn as sns\r\n",
    "from datetime import date, datetime\r\n",
    "import matplotlib.pyplot as plt\r\n",
    "import re #For Regex Operations\r\n",
    "\r\n",
    "from scipy.stats.kde import gaussian_kde\r\n",
    "from scipy.stats import norm\r\n",
    "from scipy.interpolate import make_interp_spline, BSpline"
   ]
  },
  {
   "cell_type": "markdown",
   "metadata": {},
   "source": [
    "## Read in CSV"
   ]
  },
  {
   "cell_type": "code",
   "execution_count": null,
   "metadata": {},
   "outputs": [],
   "source": [
    "# Relevant Fields Description\n",
    "# Note that some fields were removed to preserve anonymity of data\n",
    "'BUNDLEID'             # Prepaid Plan Identifier - Hashed to preserve anonymity\n",
    "'Duration'             # Given Length of the Plan\n",
    "'INITIALBALANCELIMIT'  # Initial amount of data allowed\n",
    "'Time_Taken'           # Amount in days customer took...\n",
    "'Usage'                # Amount of data in Mb that the customer used at the end\n",
    "'Bundle_Status'        # If the bundle was expired or exhausted\n",
    "\n",
    "data_usage_eval = pd.read_csv('data_usage.csv')\n",
    "data_usage_eval.head()"
   ]
  },
  {
   "cell_type": "markdown",
   "metadata": {},
   "source": [
    "## Functions"
   ]
  },
  {
   "cell_type": "markdown",
   "metadata": {},
   "source": [
    "### Obtain Fraction X of Data Used for all users"
   ]
  },
  {
   "cell_type": "code",
   "execution_count": null,
   "metadata": {},
   "outputs": [],
   "source": [
    "def obtain_x(data_usage_eval):\n",
    "    '''\n",
    "    Calculates X for expired and exhausted prepaid plans for all users.\n",
    "    If the plan is expired, X is the fraction of data used before expiration.\n",
    "    If the plan is exhausted, X is the fraction of time taken over the duration.\n",
    "\n",
    "    :param data_usage_eval: Accepts the dataframe with the relevant data and fields. \n",
    "    :return: data_usage_eval: Dataframe with updated fields.\n",
    "    '''\n",
    "    \n",
    "    # Insert Column X into the datafram\n",
    "    # If headers do not exist, insert them   \n",
    "    if not 'X' in data_usage_eval.columns:\n",
    "        data_usage_eval.insert(loc=6, column='X', value=' ')\n",
    "\n",
    "    for i in range(len(data_usage_eval)):\n",
    "        if data_usage_eval.at[i, 'Bundle_Status'] == 'Bundle_Expired':\n",
    "            data_usage_eval.at[i, 'X'] = data_usage_eval.at[i, 'Usage'] / data_usage_eval.at[i, 'INITIALBALANCELIMIT']\n",
    "        elif data_usage_eval.at[i, 'Bundle_Status'] == 'Bundle_Exhausted':\n",
    "            data_usage_eval.at[i, 'X'] = data_usage_eval.at[i, 'Time_Taken'] / data_usage_eval.at[i, 'Duration']\n",
    "\n",
    "    data_usage_eval['X'] = pd.to_numeric(data_usage_eval['X'])\n",
    "    \n",
    "    return data_usage_eval"
   ]
  },
  {
   "cell_type": "markdown",
   "metadata": {},
   "source": [
    "### Graph displaying the fraction of data used before expiration of a plan"
   ]
  },
  {
   "cell_type": "code",
   "execution_count": null,
   "metadata": {},
   "outputs": [],
   "source": [
    "def expired_x_graph_display(data_usage_eval):\n",
    "    '''\n",
    "    Displays the graph for the fraction of data used before expiration, \n",
    "    against the different plans from the provider.\n",
    "\n",
    "    :param data_usage_eval: Accepts the dataframe with the relevant data and fields. \n",
    "    :output: Shows the graph\n",
    "    '''\n",
    "    exp_prepaid = data_usage_eval.loc[data_usage_eval['Bundle_Status'] == 'Bundle_Expired']\n",
    "    group_prepaid = exp_prepaid.groupby(['BUNDLEID']).size().reset_index(name='counts')\n",
    "    count = group_prepaid['counts']\n",
    "    group_prepaid_mean = exp_prepaid.groupby(['BUNDLEID']).mean().reset_index()\n",
    "    group_prepaid_mean.insert(loc=6, column='Counts', value=count)\n",
    "\n",
    "    sns.set_style('darkgrid')\n",
    "    sns.set(rc={'figure.figsize':(11.7,8.27)})\n",
    "\n",
    "    x = group_prepaid_mean.index\n",
    "    y = group_prepaid_mean['X']\n",
    "\n",
    "    ax = sns.barplot(x=x, y=y, data=group_prepaid_mean, palette=\"Blues_d\")\n",
    "    ax.set(xlabel='Different Prepaid Plans ', ylabel='Fraction of data used before expiration (x)')\n",
    "    plt.show()"
   ]
  },
  {
   "cell_type": "markdown",
   "metadata": {},
   "source": [
    "### Calculate Profits for Personalised and Traditional for different profit margins"
   ]
  },
  {
   "cell_type": "code",
   "execution_count": null,
   "metadata": {},
   "outputs": [],
   "source": [
    "def get_profit(kp_list, data_usage_eval):\n",
    "    '''\n",
    "    Obtains the profit for traditional and personalised plans based\n",
    "    on the profit margin\n",
    "\n",
    "    :param data_usage_eval: Accepts the dataframe with the relevant data and fields. \n",
    "    :output: Saves the profits for exhausted and expired plans for both traditional and personalised, \n",
    "    this is done to calculate the profit ratios later on.\n",
    "    '''\n",
    "    \n",
    "    exp_personalised = dict()\n",
    "    exp_traditional = dict()\n",
    "    exh_personalised = dict()\n",
    "    exh_traditional = dict()\n",
    "\n",
    "    # If headers do not exist, insert them    \n",
    "    if not set(['Personalised_Profit','Traditional_Profit']).issubset(data_usage_eval.columns):\n",
    "        data_usage_eval.insert(loc=7, column='Personalised_Profit', value=' ')\n",
    "        data_usage_eval.insert(loc=8, column='Traditional_Profit', value=' ')\n",
    "\n",
    "    for kp in kp_list:\n",
    "        print(\"Profit Margin: \", kp)\n",
    "        margin = 1 / (1+kp)\n",
    "\n",
    "        for i in range(len(data_usage_eval)):\n",
    "            if data_usage_eval.at[i, 'X'] <= margin:\n",
    "                data_usage_eval.at[i, 'Personalised_Profit'] = np.multiply(data_usage_eval.at[i, 'X'], kp)\n",
    "                data_usage_eval.at[i, 'Traditional_Profit'] = 0\n",
    "            elif data_usage_eval.at[i, 'X'] > margin:\n",
    "                data_usage_eval.at[i, 'Traditional_Profit'] = 1 - data_usage_eval.at[i, 'X']\n",
    "                data_usage_eval.at[i, 'Personalised_Profit'] = 0\n",
    "\n",
    "        data_usage_eval['Personalised_Profit'] = pd.to_numeric(data_usage_eval['Personalised_Profit'], errors='coerce')\n",
    "        data_usage_eval['Traditional_Profit'] = pd.to_numeric(data_usage_eval['Traditional_Profit'], errors='coerce')\n",
    "\n",
    "        expired = data_usage_eval.loc[data_usage_eval['Bundle_Status'] == 'Bundle_Expired']\n",
    "        exhausted = data_usage_eval.loc[data_usage_eval['Bundle_Status'] == 'Bundle_Exhausted']\n",
    "        \n",
    "        exp_personalised[kp] = expired['Personalised_Profit'].sum()\n",
    "        exp_traditional[kp] = expired['Traditional_Profit'].sum()\n",
    "        exh_personalised[kp] = exhausted['Personalised_Profit'].sum()\n",
    "        exh_traditional[kp] = exhausted['Traditional_Profit'].sum()\n",
    "        \n",
    "        print(\"Expired Personalized Profit: \", exp_personalised[kp])\n",
    "        print(\"Expired Traditional Profit: \", exp_traditional[kp])\n",
    "        print(\"Exhausted Personalized Profit: \", exh_personalised[kp])\n",
    "        print(\"Exhausted Traditional Profit: \", exh_traditional[kp])\n",
    "        print(\"\\n\\n\")\n",
    "\n",
    "    return exp_personalised, exp_traditional, exh_personalised, exh_traditional"
   ]
  },
  {
   "cell_type": "markdown",
   "metadata": {},
   "source": [
    "### Get Profit Ratios "
   ]
  },
  {
   "cell_type": "code",
   "execution_count": null,
   "metadata": {},
   "outputs": [],
   "source": [
    "def get_profit_ratios(kp_list, exp_personalised, exp_traditional, exh_personalised, exh_traditional):\n",
    "    '''\n",
    "    Calculates the profit ratios using the personalized and \n",
    "    traditonal profits previously calculated.\n",
    "\n",
    "    :param kp_list: Range of profit margins from 0.02 - 0.15\n",
    "    :param exp_personalised: Personalized profits for the range of profit margins [0.02 - 0.15] for expired fields. \n",
    "    :param exp_traditional: Traditional profits for the range of profit margins [0.02 - 0.15] for exhausted fields. \n",
    "    :param exh_personalised: Personalized profits for the range of profit margins [0.02 - 0.15] for expired fields. \n",
    "    :param exh_traditional: Traditional profits for the range of profit margins [0.02 - 0.15] for exhausted fields.\n",
    "    \n",
    "    :return: exp_ratios: Expired Profit Ratios.\n",
    "    :return: exp_pers_profits: Personalised Profits for Expired Plans.\n",
    "    :return: exp_trad_profits: Traditional Profits for Expired Plans.\n",
    "    :return: exh_ratios: Exhausted Profit Ratios.\n",
    "    :return: exh_pers_profits: Personalised Profits for Exhausted Plans.\n",
    "    :return: exh_trad_profits: Traditional Profits for Exhausted Plans.\n",
    "    '''\n",
    "    exp_pers_profits = []\n",
    "    exp_trad_profits = []\n",
    "    exh_pers_profits = []\n",
    "    exh_trad_profits = []\n",
    "    exp_ratio = []\n",
    "    exh_ratio = []\n",
    "\n",
    "    for x in kp_list:\n",
    "        exp_pers_profits.append(exp_personalised[x])\n",
    "        exp_trad_profits.append(exp_traditional[x])\n",
    "        exh_pers_profits.append(exh_personalised[x])\n",
    "        exh_trad_profits.append(exh_traditional[x])\n",
    "\n",
    "        exp_ratio.append(exp_personalised[x]/exp_traditional[x])\n",
    "        exh_ratio.append(exh_personalised[x]/exh_traditional[x])\n",
    "        \n",
    "    # Expired Data\n",
    "    exp_ratios = np.array(exp_ratio)\n",
    "    exp_pers_profits = np.array(exp_pers_profits)\n",
    "    exp_trad_profits = np.array(exp_trad_profits)\n",
    "\n",
    "    # Exhausted Data\n",
    "    exh_ratios = np.array(exh_ratio)\n",
    "    exh_pers_profits = np.array(exh_pers_profits)\n",
    "    exh_trad_profits = np.array(exh_trad_profits)\n",
    "        \n",
    "    return exp_ratios, exp_pers_profits, exp_trad_profits, exh_ratios, exh_pers_profits, exh_trad_profits"
   ]
  },
  {
   "cell_type": "markdown",
   "metadata": {},
   "source": [
    "### Produce Profit Ratio Graphs"
   ]
  },
  {
   "cell_type": "code",
   "execution_count": null,
   "metadata": {},
   "outputs": [],
   "source": [
    "def profit_ratio_graph(kp_list, ratio, personalised, traditional):\n",
    "    '''\n",
    "    Calculates the profit ratios using the personalized and \n",
    "    traditonal profits previously calculated.\n",
    "\n",
    "    :param kp_list: Range of profit margins from 0.02 - 0.15\n",
    "    :param ratio: Profit Ratios Previously Calculated\n",
    "    :param personalised: \n",
    "    :param traditional: \n",
    "    \n",
    "    :output: Profit Ratio Graph\n",
    "\n",
    "    '''\n",
    "    # Profit Margins     \n",
    "    kp = np.array(kp_list)\n",
    "    # Range of profit margin from min to max\n",
    "    xnew = np.linspace(kp.min(), kp.max(), 3000)\n",
    "    \n",
    "    # Profit Ratios\n",
    "    a_BSpline = make_interp_spline(kp, ratio)\n",
    "    # Personalised Profits\n",
    "    pers_BSpline = make_interp_spline(kp, personalised)\n",
    "    # Traditional Profits\n",
    "    trad_BSpline = make_interp_spline(kp, traditional)\n",
    "    \n",
    "    y_new = a_BSpline(xnew)\n",
    "    y_pers = pers_BSpline(xnew)\n",
    "    y_trad = trad_BSpline(xnew)\n",
    "\n",
    "    # Set the x axis label\n",
    "    plt.xlabel('Profit Margin (kp)')\n",
    "    # Set the y axis label\n",
    "    plt.ylabel('Profit Ratio (G)')\n",
    "    \n",
    "    # Plot the graph\n",
    "    plt.plot(xnew, y_new)\n",
    "    plt.show()"
   ]
  },
  {
   "cell_type": "markdown",
   "metadata": {},
   "source": [
    "## Call All Functions Here"
   ]
  },
  {
   "cell_type": "code",
   "execution_count": null,
   "metadata": {},
   "outputs": [],
   "source": [
    "# Get X\n",
    "data_usage_eval = obtain_x(data_usage_eval)\n",
    "data_usage_eval.head()"
   ]
  },
  {
   "cell_type": "code",
   "execution_count": null,
   "metadata": {},
   "outputs": [],
   "source": [
    "# Display Graph for expired plans\n",
    "expired_x_graph_display(data_usage_eval)"
   ]
  },
  {
   "cell_type": "markdown",
   "metadata": {},
   "source": [
    "### Store New Data to Calculate Profit Ratios"
   ]
  },
  {
   "cell_type": "code",
   "execution_count": null,
   "metadata": {},
   "outputs": [],
   "source": [
    "# Save profits for personalised and traditional plans\n",
    "# kp for 0.02, 0.04, 0.06, 0.08, 0.10, 0.12, 0.15\n",
    "kp_list = [0.02, 0.04, 0.06, 0.08, 0.10, 0.12, 0.15]\n",
    "exp_personalised, exp_traditional, exh_personalised, exh_traditional = get_profit(kp_list, data_usage_eval)"
   ]
  },
  {
   "cell_type": "markdown",
   "metadata": {},
   "source": [
    "### Get Profit Ratios "
   ]
  },
  {
   "cell_type": "code",
   "execution_count": null,
   "metadata": {},
   "outputs": [],
   "source": [
    "exp_ratios, exp_pers_profits, exp_trad_profits, exh_ratios, exh_pers_profits, exh_trad_profits = get_profit_ratios(kp_list, exp_personalised, exp_traditional, exh_personalised, exh_traditional)"
   ]
  },
  {
   "cell_type": "markdown",
   "metadata": {},
   "source": [
    "### Produce Graphs"
   ]
  },
  {
   "cell_type": "code",
   "execution_count": null,
   "metadata": {},
   "outputs": [],
   "source": [
    "# Profit Ratio Graph for Expired Plans\n",
    "profit_ratio_graph(kp_list, exp_ratios, exp_pers_profits, exp_trad_profits)"
   ]
  },
  {
   "cell_type": "code",
   "execution_count": null,
   "metadata": {},
   "outputs": [],
   "source": [
    "# Profit Ratio Graph for Exhausted Plans\n",
    "profit_ratio_graph(kp_list, exh_ratios, exh_pers_profits, exh_trad_profits)"
   ]
  }
 ],
 "metadata": {
  "kernelspec": {
   "display_name": "Python 3",
   "language": "python",
   "name": "python3"
  },
  "language_info": {
   "codemirror_mode": {
    "name": "ipython",
    "version": 3
   },
   "file_extension": ".py",
   "mimetype": "text/x-python",
   "name": "python",
   "nbconvert_exporter": "python",
   "pygments_lexer": "ipython3",
   "version": "3.6.10"
  }
 },
 "nbformat": 4,
 "nbformat_minor": 4
}