{
 "cells": [
  {
   "cell_type": "markdown",
   "metadata": {},
   "source": [
    "# Evaluation of Customer Switching Behavior between Prepaid Mobile Plans"
   ]
  },
  {
   "cell_type": "markdown",
   "metadata": {},
   "source": [
    "### Abstract\n",
    "\n",
    "One new trending feature of Smartphones is the support for E-SIM (Embedded Subscriber Identification Module) cards. These allow the user to simultaneously subscribe to multiple cellular providers while also supporting at most one physical SIM (Subscriber Identification Module) card. This feature allows customers to easily switch between providers and is especially useful for those who use prepaid plans which are popular in developing countries. A customer may have multiple providers and, at any point in time, can choose the provider with the most cost effective data plan. This means that cellular providers must consider soft-churn, where the consumer dynamically switches between multiple plans from multiple providers, in addition to the more traditional churn, where a consumer switches providers. This means that data pricing for such consumers must now be more personalized in order to be competitive and maximize profits. We determine the optimal personalized prepaid plan for such users, while providing a competitive advantage to the provider. Examples are provided to demonstrate the benefit, and numerical results corroborate our premise that personalized over traditional pricing plans can improve the revenue of the provider.\n",
    "\n",
    "This notebook has the code developed to evaluate the switching behavior of customers, and produce the graphs shown under the Numerical Results section of the paper."
   ]
  },
  {
   "cell_type": "markdown",
   "metadata": {},
   "source": [
    "## Necessary Libraries "
   ]
  },
  {
   "cell_type": "code",
   "execution_count": 1,
   "metadata": {},
   "outputs": [
    {
     "name": "stdout",
     "output_type": "stream",
     "text": [
      "Populating the interactive namespace from numpy and matplotlib\n"
     ]
    }
   ],
   "source": [
    "%pylab inline\n",
    "import numpy as np\n",
    "import pandas as pd\n",
    "import category_encoders as ce\n",
    "import seaborn as sns\n",
    "from datetime import date, datetime\n",
    "import matplotlib.pyplot as plt\n",
    "import re #For Regex Operations\n",
    "\n",
    "from scipy.stats.kde import gaussian_kde\n",
    "from scipy.stats import norm\n",
    "from scipy.interpolate import make_interp_spline, BSpline"
   ]
  },
  {
   "cell_type": "markdown",
   "metadata": {},
   "source": [
    "## Relevant Fields Description"
   ]
  },
  {
   "cell_type": "markdown",
   "metadata": {},
   "source": [
    "Note that some fields were removed to preserve anonymity of data <br />\n",
    "\n",
    "    BUNDLEID             - Prepaid Plan Identifier [Changed to preserve anonymity]\n",
    "    Duration             - Given Length of the Plan\n",
    "    INITIALBALANCELIMIT  - Initial amount of data allowed in bytes\n",
    "    Time_Taken           - Amount in days customer took upon completion of the plan\n",
    "    Usage                - Amount of data in bytes that the customer used upon completion of the plan\n",
    "    Bundle_Status        - If the bundle was expired or exhausted"
   ]
  },
  {
   "cell_type": "markdown",
   "metadata": {},
   "source": [
    "## Functions"
   ]
  },
  {
   "cell_type": "markdown",
   "metadata": {},
   "source": [
    "### Obtain Fraction X of Data Used for all users"
   ]
  },
  {
   "cell_type": "code",
   "execution_count": 2,
   "metadata": {},
   "outputs": [],
   "source": [
    "def obtain_x(data_usage_eval):\n",
    "    '''\n",
    "    Calculates X for expired and exhausted prepaid plans for all users.\n",
    "    If the plan is expired, X is the fraction of data used before expiration.\n",
    "    If the plan is exhausted, X is the fraction of time taken over the duration.\n",
    "\n",
    "    :param: data_usage_eval: Accepts the dataframe with the relevant data and fields. \n",
    "    :return: data_usage_eval: Dataframe with updated fields.\n",
    "    '''\n",
    "    \n",
    "    # Insert Column X into the datafram\n",
    "    # If headers do not exist, insert them   \n",
    "    if not 'X' in data_usage_eval.columns:\n",
    "        data_usage_eval.insert(loc=6, column='X', value=' ')\n",
    "\n",
    "    # Calculate fraction X     \n",
    "    for i in range(len(data_usage_eval)):\n",
    "        if data_usage_eval.at[i, 'Bundle_Status'] == 'Bundle_Expired':\n",
    "            data_usage_eval.at[i, 'X'] = data_usage_eval.at[i, 'Usage'] / data_usage_eval.at[i, 'INITIALBALANCELIMIT']\n",
    "        elif data_usage_eval.at[i, 'Bundle_Status'] == 'Bundle_Exhausted':\n",
    "            data_usage_eval.at[i, 'X'] = data_usage_eval.at[i, 'Time_Taken'] / data_usage_eval.at[i, 'Duration']\n",
    "\n",
    "    data_usage_eval['X'] = pd.to_numeric(data_usage_eval['X'])\n",
    "    \n",
    "    return data_usage_eval"
   ]
  },
  {
   "cell_type": "markdown",
   "metadata": {},
   "source": [
    "### Graph displaying the fraction of data used before expiration of a plan"
   ]
  },
  {
   "cell_type": "code",
   "execution_count": 3,
   "metadata": {},
   "outputs": [],
   "source": [
    "def expired_x_graph_display(data_usage_eval):\n",
    "    '''\n",
    "    Displays the graph for the fraction of data used before expiration, \n",
    "    against the different plans from the provider.\n",
    "\n",
    "    :param data_usage_eval: Accepts the dataframe with the relevant data and fields. \n",
    "    :output: Shows the graph\n",
    "    '''\n",
    "    \n",
    "    # Get data for expired plans only\n",
    "    exp_prepaid = data_usage_eval.loc[data_usage_eval['Bundle_Status'] == 'Bundle_Expired']\n",
    "    \n",
    "    # Group by the Bundle ID and get the mean of each field\n",
    "    group_prepaid_mean = exp_prepaid.groupby(['BUNDLEID']).mean().reset_index()\n",
    "\n",
    "    sns.set_style('darkgrid')\n",
    "    sns.set(rc={'figure.figsize':(11.7,8.27)})\n",
    "\n",
    "    x = group_prepaid_mean.index\n",
    "    y = group_prepaid_mean['X']\n",
    "\n",
    "    ax = sns.barplot(x=x, y=y, data=group_prepaid_mean, palette=\"Blues_d\")\n",
    "    ax.set(xlabel='Different Prepaid Plans ', ylabel='Fraction of data used before expiration (x)')\n",
    "    plt.show()"
   ]
  },
  {
   "cell_type": "markdown",
   "metadata": {},
   "source": [
    "### Calculate Profits for Personalized and Traditional for different profit margins"
   ]
  },
  {
   "cell_type": "code",
   "execution_count": 4,
   "metadata": {},
   "outputs": [],
   "source": [
    "def get_profit(kp_list, data_usage_eval):\n",
    "    '''\n",
    "    Obtains the profit for traditional and personalized plans based\n",
    "    on the profit margin\n",
    "\n",
    "    :param: data_usage_eval: Accepts the dataframe with the relevant data and fields. \n",
    "    :output: Saves the profits for exhausted and expired plans for both traditional and personalized, \n",
    "    this is done to calculate the profit ratios later on.\n",
    "    '''\n",
    "    \n",
    "    exp_personalized = dict()\n",
    "    exp_traditional = dict()\n",
    "    exh_personalized = dict()\n",
    "    exh_traditional = dict()\n",
    "\n",
    "    # If headers do not exist, insert them    \n",
    "    if not set(['Personalized_Profit','Traditional_Profit']).issubset(data_usage_eval.columns):\n",
    "        data_usage_eval.insert(loc=7, column='Personalized_Profit', value=' ')\n",
    "        data_usage_eval.insert(loc=8, column='Traditional_Profit', value=' ')\n",
    "\n",
    "    # For each profit margin in the range of profit margins\n",
    "    for kp in kp_list:\n",
    "        print(\"Profit Margin: \", kp)\n",
    "        margin = 1 / (1+kp)\n",
    "        \n",
    "        # As explained in the paper, \n",
    "        # if the fraction X is <= margin, a personalized profit is made\n",
    "        # if X > margin, then a traditional profit is made.\n",
    "        for i in range(len(data_usage_eval)):\n",
    "            if data_usage_eval.at[i, 'X'] <= margin:\n",
    "                # X * kp\n",
    "                data_usage_eval.at[i, 'Personalized_Profit'] = np.multiply(data_usage_eval.at[i, 'X'], kp)\n",
    "                data_usage_eval.at[i, 'Traditional_Profit'] = 0\n",
    "            elif data_usage_eval.at[i, 'X'] > margin:\n",
    "                # 1 - X\n",
    "                data_usage_eval.at[i, 'Traditional_Profit'] = 1 - data_usage_eval.at[i, 'X']\n",
    "                data_usage_eval.at[i, 'Personalized_Profit'] = 0\n",
    "\n",
    "        data_usage_eval['Personalized_Profit'] = pd.to_numeric(data_usage_eval['Personalized_Profit'], errors='coerce')\n",
    "        data_usage_eval['Traditional_Profit'] = pd.to_numeric(data_usage_eval['Traditional_Profit'], errors='coerce')\n",
    "\n",
    "        # Separate expired and exhausted data\n",
    "        expired = data_usage_eval.loc[data_usage_eval['Bundle_Status'] == 'Bundle_Expired']\n",
    "        exhausted = data_usage_eval.loc[data_usage_eval['Bundle_Status'] == 'Bundle_Exhausted']\n",
    "        \n",
    "        # Sum the personalized and traditional profits calculated for expired plans\n",
    "        exp_personalized[kp] = expired['Personalized_Profit'].sum()\n",
    "        exp_traditional[kp] = expired['Traditional_Profit'].sum()\n",
    "        \n",
    "        # Sum the personalized and traditional profits calculated for expired plans\n",
    "        exh_personalized[kp] = exhausted['Personalized_Profit'].sum()\n",
    "        exh_traditional[kp] = exhausted['Traditional_Profit'].sum()\n",
    "        \n",
    "        print(\"Expired Personalized Profit: \", exp_personalized[kp])\n",
    "        print(\"Expired Traditional Profit: \", exp_traditional[kp])\n",
    "        print(\"Exhausted Personalized Profit: \", exh_personalized[kp])\n",
    "        print(\"Exhausted Traditional Profit: \", exh_traditional[kp])\n",
    "        print(\"\\n\")\n",
    "\n",
    "    return exp_personalized, exp_traditional, exh_personalized, exh_traditional"
   ]
  },
  {
   "cell_type": "markdown",
   "metadata": {},
   "source": [
    "### Get Profit Ratios "
   ]
  },
  {
   "cell_type": "code",
   "execution_count": 5,
   "metadata": {},
   "outputs": [],
   "source": [
    "def get_profit_ratios(kp_list, exp_personalized, exp_traditional, exh_personalized, exh_traditional):\n",
    "    '''\n",
    "    Calculates the profit ratios using the personalized and \n",
    "    traditonal profits previously calculated.\n",
    "\n",
    "    :param: kp_list: Range of profit margins from 0.02 - 0.15\n",
    "    :param: exp_personalized: Personalized profits for the range of profit margins [0.02 - 0.15] for expired fields. \n",
    "    :param: exp_traditional: Traditional profits for the range of profit margins [0.02 - 0.15] for exhausted fields. \n",
    "    :param: exh_personalized: Personalized profits for the range of profit margins [0.02 - 0.15] for expired fields. \n",
    "    :param: exh_traditional: Traditional profits for the range of profit margins [0.02 - 0.15] for exhausted fields.\n",
    "    \n",
    "    :return: exp_ratios: Expired Profit Ratios.\n",
    "    :return: exp_pers_profits: Personalized Profits for Expired Plans.\n",
    "    :return: exp_trad_profits: Traditional Profits for Expired Plans.\n",
    "    :return: exh_ratios: Exhausted Profit Ratios.\n",
    "    :return: exh_pers_profits: Personalized Profits for Exhausted Plans.\n",
    "    :return: exh_trad_profits: Traditional Profits for Exhausted Plans.\n",
    "    '''\n",
    "    exp_pers_profits = []\n",
    "    exp_trad_profits = []\n",
    "    exh_pers_profits = []\n",
    "    exh_trad_profits = []\n",
    "    exp_ratio = []\n",
    "    exh_ratio = []\n",
    "\n",
    "    # Get profits and profit ratios for expired and exhausted plans\n",
    "    for x in kp_list:\n",
    "        # Personalized profits for expired plans\n",
    "        exp_pers_profits.append(exp_personalized[x])\n",
    "        # Traditional profits for expired plans\n",
    "        exp_trad_profits.append(exp_traditional[x])\n",
    "        # Personalized profits for exhausted plans\n",
    "        exh_pers_profits.append(exh_personalized[x])\n",
    "        # Traditional profits for exhausted plans\n",
    "        exh_trad_profits.append(exh_traditional[x])\n",
    "\n",
    "        # Profit ratios for expired plans\n",
    "        exp_ratio.append(exp_personalized[x]/exp_traditional[x])\n",
    "        # Profit ratios for exhausted plans\n",
    "        exh_ratio.append(exh_personalized[x]/exh_traditional[x])\n",
    "        \n",
    "    # Expired Data\n",
    "    exp_ratios = np.array(exp_ratio)\n",
    "    exp_pers_profits = np.array(exp_pers_profits)\n",
    "    exp_trad_profits = np.array(exp_trad_profits)\n",
    "\n",
    "    # Exhausted Data\n",
    "    exh_ratios = np.array(exh_ratio)\n",
    "    exh_pers_profits = np.array(exh_pers_profits)\n",
    "    exh_trad_profits = np.array(exh_trad_profits)\n",
    "        \n",
    "    return exp_ratios, exp_pers_profits, exp_trad_profits, exh_ratios, exh_pers_profits, exh_trad_profits"
   ]
  },
  {
   "cell_type": "markdown",
   "metadata": {},
   "source": [
    "### Produce Profit Ratio Graphs"
   ]
  },
  {
   "cell_type": "code",
   "execution_count": 6,
   "metadata": {},
   "outputs": [],
   "source": [
    "def profit_ratio_graph(kp_list, ratio, personalized, traditional):\n",
    "    '''\n",
    "    Calculates the profit ratios using the personalized and \n",
    "    traditonal profits previously calculated.\n",
    "\n",
    "    :param: kp_list: Range of profit margins from 0.02 - 0.15\n",
    "    :param: ratio: Profit Ratios Previously Calculated\n",
    "    :param: personalized: Personalized Profits\n",
    "    :param: traditional: Traditional Profits\n",
    "    \n",
    "    :output: Profit Ratio Graph\n",
    "\n",
    "    '''\n",
    "    # Profit Margins     \n",
    "    kp = np.array(kp_list)\n",
    "    \n",
    "    # Range of profit margin from min to max\n",
    "    xnew = np.linspace(kp.min(), kp.max(), 3000)\n",
    "    \n",
    "    # Profit Ratios\n",
    "    a_BSpline = make_interp_spline(kp, ratio)\n",
    "    \n",
    "    # Personalized Profits\n",
    "    pers_BSpline = make_interp_spline(kp, personalized)\n",
    "    \n",
    "    # Traditional Profits\n",
    "    trad_BSpline = make_interp_spline(kp, traditional)\n",
    "    \n",
    "    y_new = a_BSpline(xnew)\n",
    "    y_pers = pers_BSpline(xnew)\n",
    "    y_trad = trad_BSpline(xnew)\n",
    "\n",
    "    # Set the x axis label\n",
    "    plt.xlabel('Profit Margin (kp)')\n",
    "    # Set the y axis label\n",
    "    plt.ylabel('Profit Ratio (G)')\n",
    "    \n",
    "    # Plot the graph\n",
    "    plt.plot(xnew, y_new)\n",
    "    plt.show()"
   ]
  },
  {
   "cell_type": "markdown",
   "metadata": {},
   "source": [
    "## Call All Functions Here"
   ]
  },
  {
   "cell_type": "markdown",
   "metadata": {},
   "source": [
    "### Read CSV"
   ]
  },
  {
   "cell_type": "code",
   "execution_count": 7,
   "metadata": {},
   "outputs": [
    {
     "data": {
      "text/html": [
       "<div>\n",
       "<style scoped>\n",
       "    .dataframe tbody tr th:only-of-type {\n",
       "        vertical-align: middle;\n",
       "    }\n",
       "\n",
       "    .dataframe tbody tr th {\n",
       "        vertical-align: top;\n",
       "    }\n",
       "\n",
       "    .dataframe thead th {\n",
       "        text-align: right;\n",
       "    }\n",
       "</style>\n",
       "<table border=\"1\" class=\"dataframe\">\n",
       "  <thead>\n",
       "    <tr style=\"text-align: right;\">\n",
       "      <th></th>\n",
       "      <th>BUNDLEID</th>\n",
       "      <th>Usage</th>\n",
       "      <th>Time_Taken</th>\n",
       "      <th>INITIALBALANCELIMIT</th>\n",
       "      <th>Duration</th>\n",
       "      <th>Bundle_Status</th>\n",
       "    </tr>\n",
       "  </thead>\n",
       "  <tbody>\n",
       "    <tr>\n",
       "      <th>0</th>\n",
       "      <td>2797</td>\n",
       "      <td>4.096000e+04</td>\n",
       "      <td>6.176481</td>\n",
       "      <td>26843545600</td>\n",
       "      <td>7</td>\n",
       "      <td>Bundle_Expired</td>\n",
       "    </tr>\n",
       "    <tr>\n",
       "      <th>1</th>\n",
       "      <td>3045</td>\n",
       "      <td>4.096000e+04</td>\n",
       "      <td>1.394502</td>\n",
       "      <td>104857600</td>\n",
       "      <td>2</td>\n",
       "      <td>Bundle_Expired</td>\n",
       "    </tr>\n",
       "    <tr>\n",
       "      <th>2</th>\n",
       "      <td>2828</td>\n",
       "      <td>2.308096e+07</td>\n",
       "      <td>1.249931</td>\n",
       "      <td>26843545600</td>\n",
       "      <td>7</td>\n",
       "      <td>Bundle_Expired</td>\n",
       "    </tr>\n",
       "    <tr>\n",
       "      <th>3</th>\n",
       "      <td>2831</td>\n",
       "      <td>3.975373e+08</td>\n",
       "      <td>28.754190</td>\n",
       "      <td>42949672960</td>\n",
       "      <td>30</td>\n",
       "      <td>Bundle_Expired</td>\n",
       "    </tr>\n",
       "    <tr>\n",
       "      <th>4</th>\n",
       "      <td>2831</td>\n",
       "      <td>3.221484e+09</td>\n",
       "      <td>28.558067</td>\n",
       "      <td>42949672960</td>\n",
       "      <td>30</td>\n",
       "      <td>Bundle_Expired</td>\n",
       "    </tr>\n",
       "  </tbody>\n",
       "</table>\n",
       "</div>"
      ],
      "text/plain": [
       "   BUNDLEID         Usage  Time_Taken  INITIALBALANCELIMIT  Duration  \\\n",
       "0      2797  4.096000e+04    6.176481          26843545600         7   \n",
       "1      3045  4.096000e+04    1.394502            104857600         2   \n",
       "2      2828  2.308096e+07    1.249931          26843545600         7   \n",
       "3      2831  3.975373e+08   28.754190          42949672960        30   \n",
       "4      2831  3.221484e+09   28.558067          42949672960        30   \n",
       "\n",
       "    Bundle_Status  \n",
       "0  Bundle_Expired  \n",
       "1  Bundle_Expired  \n",
       "2  Bundle_Expired  \n",
       "3  Bundle_Expired  \n",
       "4  Bundle_Expired  "
      ]
     },
     "execution_count": 7,
     "metadata": {},
     "output_type": "execute_result"
    }
   ],
   "source": [
    "data_usage_eval = pd.read_csv('data_usage.csv')\n",
    "\n",
    "# Display first 5 rows\n",
    "data_usage_eval.head()"
   ]
  },
  {
   "cell_type": "markdown",
   "metadata": {},
   "source": [
    "### Get X"
   ]
  },
  {
   "cell_type": "code",
   "execution_count": 8,
   "metadata": {},
   "outputs": [
    {
     "data": {
      "text/html": [
       "<div>\n",
       "<style scoped>\n",
       "    .dataframe tbody tr th:only-of-type {\n",
       "        vertical-align: middle;\n",
       "    }\n",
       "\n",
       "    .dataframe tbody tr th {\n",
       "        vertical-align: top;\n",
       "    }\n",
       "\n",
       "    .dataframe thead th {\n",
       "        text-align: right;\n",
       "    }\n",
       "</style>\n",
       "<table border=\"1\" class=\"dataframe\">\n",
       "  <thead>\n",
       "    <tr style=\"text-align: right;\">\n",
       "      <th></th>\n",
       "      <th>BUNDLEID</th>\n",
       "      <th>Usage</th>\n",
       "      <th>Time_Taken</th>\n",
       "      <th>INITIALBALANCELIMIT</th>\n",
       "      <th>Duration</th>\n",
       "      <th>Bundle_Status</th>\n",
       "      <th>X</th>\n",
       "    </tr>\n",
       "  </thead>\n",
       "  <tbody>\n",
       "    <tr>\n",
       "      <th>0</th>\n",
       "      <td>2797</td>\n",
       "      <td>4.096000e+04</td>\n",
       "      <td>6.176481</td>\n",
       "      <td>26843545600</td>\n",
       "      <td>7</td>\n",
       "      <td>Bundle_Expired</td>\n",
       "      <td>0.000002</td>\n",
       "    </tr>\n",
       "    <tr>\n",
       "      <th>1</th>\n",
       "      <td>3045</td>\n",
       "      <td>4.096000e+04</td>\n",
       "      <td>1.394502</td>\n",
       "      <td>104857600</td>\n",
       "      <td>2</td>\n",
       "      <td>Bundle_Expired</td>\n",
       "      <td>0.000391</td>\n",
       "    </tr>\n",
       "    <tr>\n",
       "      <th>2</th>\n",
       "      <td>2828</td>\n",
       "      <td>2.308096e+07</td>\n",
       "      <td>1.249931</td>\n",
       "      <td>26843545600</td>\n",
       "      <td>7</td>\n",
       "      <td>Bundle_Expired</td>\n",
       "      <td>0.000860</td>\n",
       "    </tr>\n",
       "    <tr>\n",
       "      <th>3</th>\n",
       "      <td>2831</td>\n",
       "      <td>3.975373e+08</td>\n",
       "      <td>28.754190</td>\n",
       "      <td>42949672960</td>\n",
       "      <td>30</td>\n",
       "      <td>Bundle_Expired</td>\n",
       "      <td>0.009256</td>\n",
       "    </tr>\n",
       "    <tr>\n",
       "      <th>4</th>\n",
       "      <td>2831</td>\n",
       "      <td>3.221484e+09</td>\n",
       "      <td>28.558067</td>\n",
       "      <td>42949672960</td>\n",
       "      <td>30</td>\n",
       "      <td>Bundle_Expired</td>\n",
       "      <td>0.075006</td>\n",
       "    </tr>\n",
       "  </tbody>\n",
       "</table>\n",
       "</div>"
      ],
      "text/plain": [
       "   BUNDLEID         Usage  Time_Taken  INITIALBALANCELIMIT  Duration  \\\n",
       "0      2797  4.096000e+04    6.176481          26843545600         7   \n",
       "1      3045  4.096000e+04    1.394502            104857600         2   \n",
       "2      2828  2.308096e+07    1.249931          26843545600         7   \n",
       "3      2831  3.975373e+08   28.754190          42949672960        30   \n",
       "4      2831  3.221484e+09   28.558067          42949672960        30   \n",
       "\n",
       "    Bundle_Status         X  \n",
       "0  Bundle_Expired  0.000002  \n",
       "1  Bundle_Expired  0.000391  \n",
       "2  Bundle_Expired  0.000860  \n",
       "3  Bundle_Expired  0.009256  \n",
       "4  Bundle_Expired  0.075006  "
      ]
     },
     "execution_count": 8,
     "metadata": {},
     "output_type": "execute_result"
    }
   ],
   "source": [
    "data_usage_eval = obtain_x(data_usage_eval)\n",
    "data_usage_eval.head()"
   ]
  },
  {
   "cell_type": "markdown",
   "metadata": {},
   "source": [
    "### Graph Displaying Average fraction of data usage used before expiration for 20 actual plans"
   ]
  },
  {
   "cell_type": "code",
   "execution_count": 9,
   "metadata": {},
   "outputs": [
    {
     "data": {
      "image/png": "[encoded data removed]",
      "text/plain": [
       "<Figure size 842.4x595.44 with 1 Axes>"
      ]
     },
     "metadata": {},
     "output_type": "display_data"
    }
   ],
   "source": [
    "expired_x_graph_display(data_usage_eval)"
   ]
  },
  {
   "cell_type": "markdown",
   "metadata": {},
   "source": [
    "### Store New Data to Calculate Profit Ratios"
   ]
  },
  {
   "cell_type": "code",
   "execution_count": 10,
   "metadata": {},
   "outputs": [
    {
     "name": "stdout",
     "output_type": "stream",
     "text": [
      "Profit Margin:  0.02\n",
      "Expired Personalized Profit:  1377.09222057376\n",
      "Expired Traditional Profit:  13.823270943911401\n",
      "Exhausted Personalized Profit:  108.79780439263668\n",
      "Exhausted Traditional Profit:  3.493768573633159\n",
      "\n",
      "\n",
      "Profit Margin:  0.04\n",
      "Expired Personalized Profit:  2711.8203155749975\n",
      "Expired Traditional Profit:  45.720131630849366\n",
      "Exhausted Personalized Profit:  206.4854178064374\n",
      "Exhausted Traditional Profit:  11.738994102733686\n",
      "\n",
      "\n",
      "Profit Margin:  0.06\n",
      "Expired Personalized Profit:  3960.999311992811\n",
      "Expired Traditional Profit:  133.86744213609984\n",
      "Exhausted Personalized Profit:  297.32393903108465\n",
      "Exhausted Traditional Profit:  22.00253279320988\n",
      "\n",
      "\n",
      "Profit Margin:  0.08\n",
      "Expired Personalized Profit:  5241.9291371970785\n",
      "Expired Traditional Profit:  168.32645721941284\n",
      "Exhausted Personalized Profit:  379.15506704144616\n",
      "Exhausted Traditional Profit:  37.04188695987655\n",
      "\n",
      "\n",
      "Profit Margin:  0.1\n",
      "Expired Personalized Profit:  6503.2389981606375\n",
      "Expired Traditional Profit:  212.60222386230126\n",
      "Exhausted Personalized Profit:  457.7964710537919\n",
      "Exhausted Traditional Profit:  51.56825947971782\n",
      "\n",
      "\n",
      "Profit Margin:  0.12\n",
      "Expired Personalized Profit:  7733.049774777743\n",
      "Expired Traditional Profit:  277.2936987371155\n",
      "Exhausted Personalized Profit:  527.945618399471\n",
      "Exhausted Traditional Profit:  71.15036893738977\n",
      "\n",
      "\n",
      "Profit Margin:  0.15\n",
      "Expired Personalized Profit:  9572.448553137001\n",
      "Expired Traditional Profit:  361.5359298359264\n",
      "Exhausted Personalized Profit:  625.0692606646826\n",
      "Exhausted Traditional Profit:  102.73195337301588\n",
      "\n",
      "\n"
     ]
    }
   ],
   "source": [
    "# kp for 0.02, 0.04, 0.06, 0.08, 0.10, 0.12, 0.15\n",
    "kp_list = [0.02, 0.04, 0.06, 0.08, 0.10, 0.12, 0.15]\n",
    "\n",
    "# Save profits for personalized and traditional plans\n",
    "exp_personalized, exp_traditional, exh_personalized, exh_traditional = get_profit(kp_list, data_usage_eval)"
   ]
  },
  {
   "cell_type": "markdown",
   "metadata": {},
   "source": [
    "### Get Profit Ratios "
   ]
  },
  {
   "cell_type": "code",
   "execution_count": 11,
   "metadata": {},
   "outputs": [],
   "source": [
    "exp_ratios, exp_pers_profits, exp_trad_profits, exh_ratios, exh_pers_profits, exh_trad_profits = get_profit_ratios(kp_list, exp_personalized, exp_traditional, exh_personalized, exh_traditional)"
   ]
  },
  {
   "cell_type": "markdown",
   "metadata": {},
   "source": [
    "### Produce Graphs"
   ]
  },
  {
   "cell_type": "markdown",
   "metadata": {},
   "source": [
    "#### Profit Ratio Graph for Expired Plans"
   ]
  },
  {
   "cell_type": "code",
   "execution_count": 12,
   "metadata": {},
   "outputs": [
    {
     "data": {
      "image/png": "[encoded data removed]",
      "text/plain": [
       "<Figure size 842.4x595.44 with 1 Axes>"
      ]
     },
     "metadata": {},
     "output_type": "display_data"
    }
   ],
   "source": [
    "profit_ratio_graph(kp_list, exp_ratios, exp_pers_profits, exp_trad_profits)"
   ]
  },
  {
   "cell_type": "markdown",
   "metadata": {},
   "source": [
    "#### Profit Ratio Graph for Exhausted Plans"
   ]
  },
  {
   "cell_type": "code",
   "execution_count": 13,
   "metadata": {},
   "outputs": [
    {
     "data": {
      "image/png": "[encoded data removed]",
      "text/plain": [
       "<Figure size 842.4x595.44 with 1 Axes>"
      ]
     },
     "metadata": {},
     "output_type": "display_data"
    }
   ],
   "source": [
    "profit_ratio_graph(kp_list, exh_ratios, exh_pers_profits, exh_trad_profits)"
   ]
  },
  {
   "cell_type": "markdown",
   "metadata": {},
   "source": [
    "The results demonstrate the same relationship found within the illustrative example. As the profit margin for the personalized plan decreases, the per customer profit also decreases. However, more customers are attracted to the provider with personalized plans due to a cheaper cost and thus, less customers remain on the traditional plan, leading to a larger profit ratio. Analysis on expired plans revealed that the profit ratio was larger than exhausted plans, with values ranging from 26 to 100, proving that these customers tend to benefit more. The profit ratio for exhausted plans were still high, ranging from 6 to 31, showing the effectiveness that personalized plans can have on profit optimisation and customer benefits. "
   ]
  }
 ],
 "metadata": {
  "kernelspec": {
   "display_name": "Python 3",
   "language": "python",
   "name": "python3"
  },
  "language_info": {
   "codemirror_mode": {
    "name": "ipython",
    "version": 3
   },
   "file_extension": ".py",
   "mimetype": "text/x-python",
   "name": "python",
   "nbconvert_exporter": "python",
   "pygments_lexer": "ipython3",
   "version": "3.6.10"
  }
 },
 "nbformat": 4,
 "nbformat_minor": 4
}
